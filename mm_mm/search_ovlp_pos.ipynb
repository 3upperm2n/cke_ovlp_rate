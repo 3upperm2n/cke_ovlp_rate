{
 "cells": [
  {
   "cell_type": "code",
   "execution_count": 1,
   "metadata": {
    "collapsed": false
   },
   "outputs": [],
   "source": [
    "import warnings\n",
    "import pandas as pd\n",
    "import numpy as np\n",
    "import os\n",
    "import operator # sorting\n",
    "from read_trace import *\n",
    "\n",
    "warnings.filterwarnings(\"ignore\", category=np.VisibleDeprecationWarning)"
   ]
  },
  {
   "cell_type": "code",
   "execution_count": 2,
   "metadata": {
    "collapsed": false
   },
   "outputs": [],
   "source": [
    "# ls all the trace files in the targeted folder\n",
    "target_folder = './profile_results'\n",
    "trace_list = []\n",
    "for root, dirs, files in os.walk(target_folder):\n",
    "    for file in files:\n",
    "        if 'trace' in file:\n",
    "            trace_list.append(file)"
   ]
  },
  {
   "cell_type": "code",
   "execution_count": 3,
   "metadata": {
    "collapsed": false
   },
   "outputs": [],
   "source": [
    "# record the overlapping rate for different data size\n",
    "ovlp_dict = {}\n",
    "\n",
    "for item in trace_list:\n",
    "    trace_file = target_folder + \"/\" + item\n",
    "    current_ovlp = check_kernel_ovlprate(trace_file)\n",
    "    # find out the data size\n",
    "    N = item.replace(\"trace_\", \"\").replace(\".csv\",\"\")\n",
    "    ovlp_dict[N] = current_ovlp"
   ]
  },
  {
   "cell_type": "code",
   "execution_count": 4,
   "metadata": {
    "collapsed": false
   },
   "outputs": [],
   "source": [
    "# you don't need to do this step\n",
    "sorted_ovlp_dict = sorted(ovlp_dict.items(), key=operator.itemgetter(1), reverse=True)"
   ]
  },
  {
   "cell_type": "code",
   "execution_count": 5,
   "metadata": {
    "collapsed": false
   },
   "outputs": [
    {
     "data": {
      "text/plain": [
       "[('224', 0.20649556987318807),\n",
       " ('256', 0.17328397673168117),\n",
       " ('288', 0.14308609783913176),\n",
       " ('320', 0.11166053781587837),\n",
       " ('352', 0.09854080646822483),\n",
       " ('416', 0.0674471967456349),\n",
       " ('448', 0.05873466708126428),\n",
       " ('192', 0.05050963007965457),\n",
       " ('512', 0.047478858075688204),\n",
       " ('384', 0.04130575804550429),\n",
       " ('576', 0.03881904829477732),\n",
       " ('544', 0.0385088855681164),\n",
       " ('480', 0.032582899397945425),\n",
       " ('640', 0.030915722923657997),\n",
       " ('608', 0.029725247677242717),\n",
       " ('672', 0.027020430346626753),\n",
       " ('736', 0.022915245493799013),\n",
       " ('800', 0.017504214547269883),\n",
       " ('832', 0.01644883923366334),\n",
       " ('704', 0.016029373377999662),\n",
       " ('864', 0.016015168997401477),\n",
       " ('928', 0.013971795952551208),\n",
       " ('960', 0.013017181524699675),\n",
       " ('896', 0.01157878628606835),\n",
       " ('768', 0.009441963137046497)]"
      ]
     },
     "execution_count": 5,
     "metadata": {},
     "output_type": "execute_result"
    }
   ],
   "source": [
    "sorted_ovlp_dict"
   ]
  },
  {
   "cell_type": "code",
   "execution_count": 6,
   "metadata": {
    "collapsed": false
   },
   "outputs": [
    {
     "name": "stdout",
     "output_type": "stream",
     "text": [
      "max ovlp rate : 0.206495569873\n",
      "min ovlp rate : 0.00944196313705\n",
      "\n",
      "\n"
     ]
    }
   ],
   "source": [
    "print \"max ovlp rate : \" + str(sorted_ovlp_dict[0][1])\n",
    "print \"min ovlp rate : \" + str(sorted_ovlp_dict[-1][1])\n",
    "print \"\\n\"\n",
    "\n",
    "\n",
    "# find out the data size for 2 overlapping rates: 0.25, 0.5 and 0.75\n",
    "found_75 = found_50 = found_25 = 0\n",
    "\n",
    "for key, value in sorted_ovlp_dict:\n",
    "    if (0.75 <= value < 0.76) and found_75 == 0:\n",
    "        print \"overlapping rate : \" + str(value) + \" data size : \" + str(key)\n",
    "        found_75 = 1\n",
    "        \n",
    "    if (0.50 <= value < 0.51) and found_50 == 0:\n",
    "        print \"overlapping rate : \" + str(value) + \" data size : \" + str(key)\n",
    "        found_50 = 1\n",
    "        \n",
    "    if (0.25 <= value < 0.26) and found_25 == 0:\n",
    "        print \"overlapping rate : \" + str(value) + \" data size : \" + str(key)\n",
    "        found_25 = 1"
   ]
  },
  {
   "cell_type": "markdown",
   "metadata": {},
   "source": [
    "### adjut"
   ]
  },
  {
   "cell_type": "code",
   "execution_count": 7,
   "metadata": {
    "collapsed": false
   },
   "outputs": [
    {
     "name": "stdout",
     "output_type": "stream",
     "text": [
      "overlapping rate : 0.206495569873 data size : 224\n",
      "overlapping rate : 0.111660537816 data size : 320\n"
     ]
    }
   ],
   "source": [
    "# find out the data size for 2 overlapping rates: 0.25, 0.5 and 0.75\n",
    "found_10 = found_20 = 0\n",
    "\n",
    "for key, value in sorted_ovlp_dict:\n",
    "    if (0.10 <= value < 0.12) and found_10 == 0:\n",
    "        print \"overlapping rate : \" + str(value) + \" data size : \" + str(key)\n",
    "        found_10 = 1\n",
    "        \n",
    "    if (0.20 <= value < 0.21) and found_20 == 0:\n",
    "        print \"overlapping rate : \" + str(value) + \" data size : \" + str(key)\n",
    "        found_20 = 1"
   ]
  }
 ],
 "metadata": {
  "kernelspec": {
   "display_name": "Python [conda root]",
   "language": "python",
   "name": "conda-root-py"
  },
  "language_info": {
   "codemirror_mode": {
    "name": "ipython",
    "version": 2
   },
   "file_extension": ".py",
   "mimetype": "text/x-python",
   "name": "python",
   "nbconvert_exporter": "python",
   "pygments_lexer": "ipython2",
   "version": "2.7.13"
  }
 },
 "nbformat": 4,
 "nbformat_minor": 2
}
