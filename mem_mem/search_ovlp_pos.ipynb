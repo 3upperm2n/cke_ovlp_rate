{
 "cells": [
  {
   "cell_type": "code",
   "execution_count": 1,
   "metadata": {
    "collapsed": false
   },
   "outputs": [],
   "source": [
    "import warnings\n",
    "import pandas as pd\n",
    "import numpy as np\n",
    "import os\n",
    "import operator # sorting\n",
    "from read_trace import *\n",
    "\n",
    "warnings.filterwarnings(\"ignore\", category=np.VisibleDeprecationWarning)"
   ]
  },
  {
   "cell_type": "code",
   "execution_count": 2,
   "metadata": {
    "collapsed": false
   },
   "outputs": [],
   "source": [
    "# ls all the trace files in the targeted folder\n",
    "target_folder = './profile_results'\n",
    "trace_list = []\n",
    "for root, dirs, files in os.walk(target_folder):\n",
    "    for file in files:\n",
    "        if 'trace' in file:\n",
    "            trace_list.append(file)"
   ]
  },
  {
   "cell_type": "code",
   "execution_count": 3,
   "metadata": {
    "collapsed": false
   },
   "outputs": [],
   "source": [
    "# record the overlapping rate for different data size\n",
    "ovlp_dict = {}\n",
    "\n",
    "for item in trace_list:\n",
    "    trace_file = target_folder + \"/\" + item\n",
    "    current_ovlp = check_kernel_ovlprate(trace_file)\n",
    "    # find out the data size\n",
    "    N = item.replace(\"trace_\", \"\").replace(\".csv\",\"\")\n",
    "    ovlp_dict[N] = current_ovlp"
   ]
  },
  {
   "cell_type": "code",
   "execution_count": 4,
   "metadata": {
    "collapsed": false
   },
   "outputs": [],
   "source": [
    "# you don't need to do this step\n",
    "sorted_ovlp_dict = sorted(ovlp_dict.items(), key=operator.itemgetter(1), reverse=True)"
   ]
  },
  {
   "cell_type": "code",
   "execution_count": 5,
   "metadata": {
    "collapsed": false
   },
   "outputs": [
    {
     "name": "stdout",
     "output_type": "stream",
     "text": [
      "overlapping rate : 0.752251115039 data size : 11100\n",
      "overlapping rate : 0.509615384617 data size : 4300\n",
      "overlapping rate : 0.257055159634 data size : 47300\n"
     ]
    }
   ],
   "source": [
    "# find out the data size for 2 overlapping rates: 0.25, 0.5 and 0.75\n",
    "found_75 = found_50 = found_25 = 0\n",
    "\n",
    "for key, value in sorted_ovlp_dict:\n",
    "    if (0.75 <= value < 0.76) and found_75 == 0:\n",
    "        print \"overlapping rate : \" + str(value) + \" data size : \" + str(key)\n",
    "        found_75 = 1\n",
    "        \n",
    "    if (0.50 <= value < 0.51) and found_50 == 0:\n",
    "        print \"overlapping rate : \" + str(value) + \" data size : \" + str(key)\n",
    "        found_50 = 1\n",
    "        \n",
    "    if (0.25 <= value < 0.26) and found_25 == 0:\n",
    "        print \"overlapping rate : \" + str(value) + \" data size : \" + str(key)\n",
    "        found_25 = 1"
   ]
  }
 ],
 "metadata": {
  "kernelspec": {
   "display_name": "Python [conda root]",
   "language": "python",
   "name": "conda-root-py"
  },
  "language_info": {
   "codemirror_mode": {
    "name": "ipython",
    "version": 2
   },
   "file_extension": ".py",
   "mimetype": "text/x-python",
   "name": "python",
   "nbconvert_exporter": "python",
   "pygments_lexer": "ipython2",
   "version": "2.7.13"
  }
 },
 "nbformat": 4,
 "nbformat_minor": 2
}
